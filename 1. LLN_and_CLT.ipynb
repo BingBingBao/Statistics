{
 "cells": [
  {
   "cell_type": "markdown",
   "id": "35c1a392",
   "metadata": {},
   "source": [
    "# The Law of Large Numbers & Limit Central Theorem\n",
    "\n",
    "### The Law of Large Numbers (LLN)\n",
    "\n",
    "The Law of Large Numbers (LLN) states that as the size of a sample increases, the sample mean will converge to the true population mean 𝜇.\n",
    "\n",
    "### Central Limit Theorem (CLT)\n",
    "\n",
    "The Central Limit Theorem (CLT) states that the sum (or mean) of a large number of independent and identically distributed random variables, regardless of their original distribution, will be approximately normally distributed."
   ]
  },
  {
   "cell_type": "markdown",
   "id": "operating-interest",
   "metadata": {
    "id": "operating-interest"
   },
   "source": [
    "## 1. Verify the Law of Large Numbers\n",
    "\n",
    "The Law of Large Numbers states that:\n",
    "\n",
    "“The average of the results obtained from a large number of trials should be close to the expected value and will tend to become closer to the expected value as more trials are performed” (Dekking, Michel. 2005. A Modern Introduction to Probability and Statistics)\n",
    "\n",
    "We can get a feeling about what it means by applying it to a dataset. Let’s read the Online Retail csv file and examine it:\n",
    "\n",
    "大数定律指出：\n",
    "\n",
    "“大量试验获得的结果的平均值应该接近预期值，并且随着进行更多试验，结果往往会变得更接近预期值 E(x)\n",
    "\n",
    "The Law of Large Numbers (LLN):\n",
    "The Law of Large Numbers is a fundamental theorem in probability and statistics. It comes in two forms: the Weak Law and the Strong Law, but both essentially express the same idea—that as the number of trials or observations increases, the sample average of those observations will get closer to the expected value (the true mean) of the underlying distribution. 随着试验或观察次数的增加，这些观察结果的样本平均值将越来越接近其分布的预期值（真实平均值）。\n",
    "\n",
    "- Expected values = True mean: The expected value of a random variable is the **long-run average or mean of that variable over many, many trials.  "
   ]
  },
  {
   "cell_type": "code",
   "execution_count": null,
   "id": "f08d36a3",
   "metadata": {},
   "outputs": [],
   "source": [
    "__author__ = \"Bing Huang\"\n",
    "__email__ = \"Binghuang1990@gmail.com\""
   ]
  },
  {
   "cell_type": "code",
   "execution_count": 28,
   "id": "indonesian-ethnic",
   "metadata": {
    "colab": {
     "base_uri": "https://localhost:8080/",
     "height": 206
    },
    "executionInfo": {
     "elapsed": 6548,
     "status": "ok",
     "timestamp": 1681905216840,
     "user": {
      "displayName": "Dominik Bacher",
      "userId": "01686362987424895343"
     },
     "user_tz": -120
    },
    "id": "indonesian-ethnic",
    "outputId": "296651cc-e9e6-4074-ca07-56ed70924e9b"
   },
   "outputs": [
    {
     "data": {
      "text/html": [
       "<div>\n",
       "<style scoped>\n",
       "    .dataframe tbody tr th:only-of-type {\n",
       "        vertical-align: middle;\n",
       "    }\n",
       "\n",
       "    .dataframe tbody tr th {\n",
       "        vertical-align: top;\n",
       "    }\n",
       "\n",
       "    .dataframe thead th {\n",
       "        text-align: right;\n",
       "    }\n",
       "</style>\n",
       "<table border=\"1\" class=\"dataframe\">\n",
       "  <thead>\n",
       "    <tr style=\"text-align: right;\">\n",
       "      <th></th>\n",
       "      <th>InvoiceNo</th>\n",
       "      <th>StockCode</th>\n",
       "      <th>Description</th>\n",
       "      <th>Quantity</th>\n",
       "      <th>InvoiceDate</th>\n",
       "      <th>UnitPrice</th>\n",
       "      <th>CustomerID</th>\n",
       "      <th>Country</th>\n",
       "    </tr>\n",
       "  </thead>\n",
       "  <tbody>\n",
       "    <tr>\n",
       "      <th>0</th>\n",
       "      <td>536365</td>\n",
       "      <td>85123A</td>\n",
       "      <td>WHITE HANGING HEART T-LIGHT HOLDER</td>\n",
       "      <td>6</td>\n",
       "      <td>12/1/2010 8:26</td>\n",
       "      <td>2.55</td>\n",
       "      <td>17850.0</td>\n",
       "      <td>United Kingdom</td>\n",
       "    </tr>\n",
       "    <tr>\n",
       "      <th>1</th>\n",
       "      <td>536365</td>\n",
       "      <td>71053</td>\n",
       "      <td>WHITE METAL LANTERN</td>\n",
       "      <td>6</td>\n",
       "      <td>12/1/2010 8:26</td>\n",
       "      <td>3.39</td>\n",
       "      <td>17850.0</td>\n",
       "      <td>United Kingdom</td>\n",
       "    </tr>\n",
       "    <tr>\n",
       "      <th>2</th>\n",
       "      <td>536365</td>\n",
       "      <td>84406B</td>\n",
       "      <td>CREAM CUPID HEARTS COAT HANGER</td>\n",
       "      <td>8</td>\n",
       "      <td>12/1/2010 8:26</td>\n",
       "      <td>2.75</td>\n",
       "      <td>17850.0</td>\n",
       "      <td>United Kingdom</td>\n",
       "    </tr>\n",
       "    <tr>\n",
       "      <th>3</th>\n",
       "      <td>536365</td>\n",
       "      <td>84029G</td>\n",
       "      <td>KNITTED UNION FLAG HOT WATER BOTTLE</td>\n",
       "      <td>6</td>\n",
       "      <td>12/1/2010 8:26</td>\n",
       "      <td>3.39</td>\n",
       "      <td>17850.0</td>\n",
       "      <td>United Kingdom</td>\n",
       "    </tr>\n",
       "    <tr>\n",
       "      <th>4</th>\n",
       "      <td>536365</td>\n",
       "      <td>84029E</td>\n",
       "      <td>RED WOOLLY HOTTIE WHITE HEART.</td>\n",
       "      <td>6</td>\n",
       "      <td>12/1/2010 8:26</td>\n",
       "      <td>3.39</td>\n",
       "      <td>17850.0</td>\n",
       "      <td>United Kingdom</td>\n",
       "    </tr>\n",
       "  </tbody>\n",
       "</table>\n",
       "</div>"
      ],
      "text/plain": [
       "  InvoiceNo StockCode                          Description  Quantity  \\\n",
       "0    536365    85123A   WHITE HANGING HEART T-LIGHT HOLDER         6   \n",
       "1    536365     71053                  WHITE METAL LANTERN         6   \n",
       "2    536365    84406B       CREAM CUPID HEARTS COAT HANGER         8   \n",
       "3    536365    84029G  KNITTED UNION FLAG HOT WATER BOTTLE         6   \n",
       "4    536365    84029E       RED WOOLLY HOTTIE WHITE HEART.         6   \n",
       "\n",
       "      InvoiceDate  UnitPrice  CustomerID         Country  \n",
       "0  12/1/2010 8:26       2.55     17850.0  United Kingdom  \n",
       "1  12/1/2010 8:26       3.39     17850.0  United Kingdom  \n",
       "2  12/1/2010 8:26       2.75     17850.0  United Kingdom  \n",
       "3  12/1/2010 8:26       3.39     17850.0  United Kingdom  \n",
       "4  12/1/2010 8:26       3.39     17850.0  United Kingdom  "
      ]
     },
     "execution_count": 28,
     "metadata": {},
     "output_type": "execute_result"
    }
   ],
   "source": [
    "import pandas as pd\n",
    "\n",
    "df = pd.read_csv('OnlineRetail.csv', encoding=\"unicode_escape\")\n",
    "df.head()"
   ]
  },
  {
   "cell_type": "code",
   "execution_count": 29,
   "id": "b1318403",
   "metadata": {
    "scrolled": true
   },
   "outputs": [
    {
     "data": {
      "text/html": [
       "<div>\n",
       "<style scoped>\n",
       "    .dataframe tbody tr th:only-of-type {\n",
       "        vertical-align: middle;\n",
       "    }\n",
       "\n",
       "    .dataframe tbody tr th {\n",
       "        vertical-align: top;\n",
       "    }\n",
       "\n",
       "    .dataframe thead th {\n",
       "        text-align: right;\n",
       "    }\n",
       "</style>\n",
       "<table border=\"1\" class=\"dataframe\">\n",
       "  <thead>\n",
       "    <tr style=\"text-align: right;\">\n",
       "      <th></th>\n",
       "      <th>InvoiceNo</th>\n",
       "      <th>StockCode</th>\n",
       "      <th>Description</th>\n",
       "      <th>Quantity</th>\n",
       "      <th>InvoiceDate</th>\n",
       "      <th>UnitPrice</th>\n",
       "      <th>CustomerID</th>\n",
       "      <th>Country</th>\n",
       "    </tr>\n",
       "  </thead>\n",
       "  <tbody>\n",
       "    <tr>\n",
       "      <th>541904</th>\n",
       "      <td>581587</td>\n",
       "      <td>22613</td>\n",
       "      <td>PACK OF 20 SPACEBOY NAPKINS</td>\n",
       "      <td>12</td>\n",
       "      <td>12/9/2011 12:50</td>\n",
       "      <td>0.85</td>\n",
       "      <td>12680.0</td>\n",
       "      <td>France</td>\n",
       "    </tr>\n",
       "    <tr>\n",
       "      <th>541905</th>\n",
       "      <td>581587</td>\n",
       "      <td>22899</td>\n",
       "      <td>CHILDREN'S APRON DOLLY GIRL</td>\n",
       "      <td>6</td>\n",
       "      <td>12/9/2011 12:50</td>\n",
       "      <td>2.10</td>\n",
       "      <td>12680.0</td>\n",
       "      <td>France</td>\n",
       "    </tr>\n",
       "    <tr>\n",
       "      <th>541906</th>\n",
       "      <td>581587</td>\n",
       "      <td>23254</td>\n",
       "      <td>CHILDRENS CUTLERY DOLLY GIRL</td>\n",
       "      <td>4</td>\n",
       "      <td>12/9/2011 12:50</td>\n",
       "      <td>4.15</td>\n",
       "      <td>12680.0</td>\n",
       "      <td>France</td>\n",
       "    </tr>\n",
       "    <tr>\n",
       "      <th>541907</th>\n",
       "      <td>581587</td>\n",
       "      <td>23255</td>\n",
       "      <td>CHILDRENS CUTLERY CIRCUS PARADE</td>\n",
       "      <td>4</td>\n",
       "      <td>12/9/2011 12:50</td>\n",
       "      <td>4.15</td>\n",
       "      <td>12680.0</td>\n",
       "      <td>France</td>\n",
       "    </tr>\n",
       "    <tr>\n",
       "      <th>541908</th>\n",
       "      <td>581587</td>\n",
       "      <td>22138</td>\n",
       "      <td>BAKING SET 9 PIECE RETROSPOT</td>\n",
       "      <td>3</td>\n",
       "      <td>12/9/2011 12:50</td>\n",
       "      <td>4.95</td>\n",
       "      <td>12680.0</td>\n",
       "      <td>France</td>\n",
       "    </tr>\n",
       "  </tbody>\n",
       "</table>\n",
       "</div>"
      ],
      "text/plain": [
       "       InvoiceNo StockCode                      Description  Quantity  \\\n",
       "541904    581587     22613      PACK OF 20 SPACEBOY NAPKINS        12   \n",
       "541905    581587     22899     CHILDREN'S APRON DOLLY GIRL          6   \n",
       "541906    581587     23254    CHILDRENS CUTLERY DOLLY GIRL          4   \n",
       "541907    581587     23255  CHILDRENS CUTLERY CIRCUS PARADE         4   \n",
       "541908    581587     22138    BAKING SET 9 PIECE RETROSPOT          3   \n",
       "\n",
       "            InvoiceDate  UnitPrice  CustomerID Country  \n",
       "541904  12/9/2011 12:50       0.85     12680.0  France  \n",
       "541905  12/9/2011 12:50       2.10     12680.0  France  \n",
       "541906  12/9/2011 12:50       4.15     12680.0  France  \n",
       "541907  12/9/2011 12:50       4.15     12680.0  France  \n",
       "541908  12/9/2011 12:50       4.95     12680.0  France  "
      ]
     },
     "execution_count": 29,
     "metadata": {},
     "output_type": "execute_result"
    }
   ],
   "source": [
    "df.tail()"
   ]
  },
  {
   "cell_type": "code",
   "execution_count": 30,
   "id": "39c20d4f",
   "metadata": {},
   "outputs": [
    {
     "data": {
      "text/plain": [
       "array(['United Kingdom', 'France', 'Australia', 'Netherlands', 'Germany',\n",
       "       'Norway', 'EIRE', 'Switzerland', 'Spain', 'Poland', 'Portugal',\n",
       "       'Italy', 'Belgium', 'Lithuania', 'Japan', 'Iceland',\n",
       "       'Channel Islands', 'Denmark', 'Cyprus', 'Sweden', 'Austria',\n",
       "       'Israel', 'Finland', 'Bahrain', 'Greece', 'Hong Kong', 'Singapore',\n",
       "       'Lebanon', 'United Arab Emirates', 'Saudi Arabia',\n",
       "       'Czech Republic', 'Canada', 'Unspecified', 'Brazil', 'USA',\n",
       "       'European Community', 'Malta', 'RSA'], dtype=object)"
      ]
     },
     "execution_count": 30,
     "metadata": {},
     "output_type": "execute_result"
    }
   ],
   "source": [
    "df['Country'].unique()   # an array"
   ]
  },
  {
   "cell_type": "code",
   "execution_count": 31,
   "id": "6588556f",
   "metadata": {},
   "outputs": [
    {
     "data": {
      "text/plain": [
       "United Kingdom          495478\n",
       "Germany                   9495\n",
       "France                    8557\n",
       "EIRE                      8196\n",
       "Spain                     2533\n",
       "Netherlands               2371\n",
       "Belgium                   2069\n",
       "Switzerland               2002\n",
       "Portugal                  1519\n",
       "Australia                 1259\n",
       "Norway                    1086\n",
       "Italy                      803\n",
       "Channel Islands            758\n",
       "Finland                    695\n",
       "Cyprus                     622\n",
       "Sweden                     462\n",
       "Unspecified                446\n",
       "Austria                    401\n",
       "Denmark                    389\n",
       "Japan                      358\n",
       "Poland                     341\n",
       "Israel                     297\n",
       "USA                        291\n",
       "Hong Kong                  288\n",
       "Singapore                  229\n",
       "Iceland                    182\n",
       "Canada                     151\n",
       "Greece                     146\n",
       "Malta                      127\n",
       "United Arab Emirates        68\n",
       "European Community          61\n",
       "RSA                         58\n",
       "Lebanon                     45\n",
       "Lithuania                   35\n",
       "Brazil                      32\n",
       "Czech Republic              30\n",
       "Bahrain                     19\n",
       "Saudi Arabia                10\n",
       "Name: Country, dtype: int64"
      ]
     },
     "execution_count": 31,
     "metadata": {},
     "output_type": "execute_result"
    }
   ],
   "source": [
    "df['Country'].value_counts()"
   ]
  },
  {
   "cell_type": "code",
   "execution_count": 32,
   "id": "inner-regulation",
   "metadata": {
    "id": "inner-regulation",
    "outputId": "070687fa-83c8-4a6c-ec19-5c50484be822"
   },
   "outputs": [
    {
     "data": {
      "text/plain": [
       "(541909, 8)"
      ]
     },
     "execution_count": 32,
     "metadata": {},
     "output_type": "execute_result"
    }
   ],
   "source": [
    "df.shape"
   ]
  },
  {
   "cell_type": "markdown",
   "id": "congressional-order",
   "metadata": {
    "id": "congressional-order"
   },
   "source": [
    "We have 8 columns showing:\n",
    "\n",
    "- InvoiceNo: invoice number\n",
    "- StockCode: code unique to the specific item\n",
    "- Description: description of the item\n",
    "- Quantity: quantity of items pruchased\n",
    "- InvoiceDate: date of purchase\n",
    "- UnitPrice: unit price of the item pruchase\n",
    "- CustomerID: Unique ID attached to a specific customer\n",
    "- Country: Country of Purchase\n",
    "\n",
    "For example, let’s apply the law of Large Number to this dataset. It could translate to:\n",
    "\n",
    "“The average of the daily retail store income from a large number of days should be close to the expected value (expected daily income) and will tend to become closer to the expected value as more days are taken into account.”\n",
    "\n",
    "So now let’s investigate if this is true!\n",
    "\n",
    "## Compute daily sales\n",
    "\n",
    "The first step is to build a daily sales dataframe from the raw data we loaded.\n",
    "\n",
    "We start by converting the InvoiceDate column to a `datetime` column:"
   ]
  },
  {
   "cell_type": "code",
   "execution_count": 33,
   "id": "secret-olive",
   "metadata": {
    "id": "secret-olive",
    "outputId": "98548455-5821-4545-8a83-8ac7125da43c"
   },
   "outputs": [
    {
     "data": {
      "text/html": [
       "<div>\n",
       "<style scoped>\n",
       "    .dataframe tbody tr th:only-of-type {\n",
       "        vertical-align: middle;\n",
       "    }\n",
       "\n",
       "    .dataframe tbody tr th {\n",
       "        vertical-align: top;\n",
       "    }\n",
       "\n",
       "    .dataframe thead th {\n",
       "        text-align: right;\n",
       "    }\n",
       "</style>\n",
       "<table border=\"1\" class=\"dataframe\">\n",
       "  <thead>\n",
       "    <tr style=\"text-align: right;\">\n",
       "      <th></th>\n",
       "      <th>InvoiceNo</th>\n",
       "      <th>StockCode</th>\n",
       "      <th>Description</th>\n",
       "      <th>Quantity</th>\n",
       "      <th>InvoiceDate</th>\n",
       "      <th>UnitPrice</th>\n",
       "      <th>CustomerID</th>\n",
       "      <th>Country</th>\n",
       "    </tr>\n",
       "  </thead>\n",
       "  <tbody>\n",
       "    <tr>\n",
       "      <th>0</th>\n",
       "      <td>536365</td>\n",
       "      <td>85123A</td>\n",
       "      <td>WHITE HANGING HEART T-LIGHT HOLDER</td>\n",
       "      <td>6</td>\n",
       "      <td>2010-12-01</td>\n",
       "      <td>2.55</td>\n",
       "      <td>17850.0</td>\n",
       "      <td>United Kingdom</td>\n",
       "    </tr>\n",
       "    <tr>\n",
       "      <th>1</th>\n",
       "      <td>536365</td>\n",
       "      <td>71053</td>\n",
       "      <td>WHITE METAL LANTERN</td>\n",
       "      <td>6</td>\n",
       "      <td>2010-12-01</td>\n",
       "      <td>3.39</td>\n",
       "      <td>17850.0</td>\n",
       "      <td>United Kingdom</td>\n",
       "    </tr>\n",
       "    <tr>\n",
       "      <th>2</th>\n",
       "      <td>536365</td>\n",
       "      <td>84406B</td>\n",
       "      <td>CREAM CUPID HEARTS COAT HANGER</td>\n",
       "      <td>8</td>\n",
       "      <td>2010-12-01</td>\n",
       "      <td>2.75</td>\n",
       "      <td>17850.0</td>\n",
       "      <td>United Kingdom</td>\n",
       "    </tr>\n",
       "    <tr>\n",
       "      <th>3</th>\n",
       "      <td>536365</td>\n",
       "      <td>84029G</td>\n",
       "      <td>KNITTED UNION FLAG HOT WATER BOTTLE</td>\n",
       "      <td>6</td>\n",
       "      <td>2010-12-01</td>\n",
       "      <td>3.39</td>\n",
       "      <td>17850.0</td>\n",
       "      <td>United Kingdom</td>\n",
       "    </tr>\n",
       "    <tr>\n",
       "      <th>4</th>\n",
       "      <td>536365</td>\n",
       "      <td>84029E</td>\n",
       "      <td>RED WOOLLY HOTTIE WHITE HEART.</td>\n",
       "      <td>6</td>\n",
       "      <td>2010-12-01</td>\n",
       "      <td>3.39</td>\n",
       "      <td>17850.0</td>\n",
       "      <td>United Kingdom</td>\n",
       "    </tr>\n",
       "    <tr>\n",
       "      <th>...</th>\n",
       "      <td>...</td>\n",
       "      <td>...</td>\n",
       "      <td>...</td>\n",
       "      <td>...</td>\n",
       "      <td>...</td>\n",
       "      <td>...</td>\n",
       "      <td>...</td>\n",
       "      <td>...</td>\n",
       "    </tr>\n",
       "    <tr>\n",
       "      <th>541904</th>\n",
       "      <td>581587</td>\n",
       "      <td>22613</td>\n",
       "      <td>PACK OF 20 SPACEBOY NAPKINS</td>\n",
       "      <td>12</td>\n",
       "      <td>2011-12-09</td>\n",
       "      <td>0.85</td>\n",
       "      <td>12680.0</td>\n",
       "      <td>France</td>\n",
       "    </tr>\n",
       "    <tr>\n",
       "      <th>541905</th>\n",
       "      <td>581587</td>\n",
       "      <td>22899</td>\n",
       "      <td>CHILDREN'S APRON DOLLY GIRL</td>\n",
       "      <td>6</td>\n",
       "      <td>2011-12-09</td>\n",
       "      <td>2.10</td>\n",
       "      <td>12680.0</td>\n",
       "      <td>France</td>\n",
       "    </tr>\n",
       "    <tr>\n",
       "      <th>541906</th>\n",
       "      <td>581587</td>\n",
       "      <td>23254</td>\n",
       "      <td>CHILDRENS CUTLERY DOLLY GIRL</td>\n",
       "      <td>4</td>\n",
       "      <td>2011-12-09</td>\n",
       "      <td>4.15</td>\n",
       "      <td>12680.0</td>\n",
       "      <td>France</td>\n",
       "    </tr>\n",
       "    <tr>\n",
       "      <th>541907</th>\n",
       "      <td>581587</td>\n",
       "      <td>23255</td>\n",
       "      <td>CHILDRENS CUTLERY CIRCUS PARADE</td>\n",
       "      <td>4</td>\n",
       "      <td>2011-12-09</td>\n",
       "      <td>4.15</td>\n",
       "      <td>12680.0</td>\n",
       "      <td>France</td>\n",
       "    </tr>\n",
       "    <tr>\n",
       "      <th>541908</th>\n",
       "      <td>581587</td>\n",
       "      <td>22138</td>\n",
       "      <td>BAKING SET 9 PIECE RETROSPOT</td>\n",
       "      <td>3</td>\n",
       "      <td>2011-12-09</td>\n",
       "      <td>4.95</td>\n",
       "      <td>12680.0</td>\n",
       "      <td>France</td>\n",
       "    </tr>\n",
       "  </tbody>\n",
       "</table>\n",
       "<p>541909 rows × 8 columns</p>\n",
       "</div>"
      ],
      "text/plain": [
       "       InvoiceNo StockCode                          Description  Quantity  \\\n",
       "0         536365    85123A   WHITE HANGING HEART T-LIGHT HOLDER         6   \n",
       "1         536365     71053                  WHITE METAL LANTERN         6   \n",
       "2         536365    84406B       CREAM CUPID HEARTS COAT HANGER         8   \n",
       "3         536365    84029G  KNITTED UNION FLAG HOT WATER BOTTLE         6   \n",
       "4         536365    84029E       RED WOOLLY HOTTIE WHITE HEART.         6   \n",
       "...          ...       ...                                  ...       ...   \n",
       "541904    581587     22613          PACK OF 20 SPACEBOY NAPKINS        12   \n",
       "541905    581587     22899         CHILDREN'S APRON DOLLY GIRL          6   \n",
       "541906    581587     23254        CHILDRENS CUTLERY DOLLY GIRL          4   \n",
       "541907    581587     23255      CHILDRENS CUTLERY CIRCUS PARADE         4   \n",
       "541908    581587     22138        BAKING SET 9 PIECE RETROSPOT          3   \n",
       "\n",
       "       InvoiceDate  UnitPrice  CustomerID         Country  \n",
       "0       2010-12-01       2.55     17850.0  United Kingdom  \n",
       "1       2010-12-01       3.39     17850.0  United Kingdom  \n",
       "2       2010-12-01       2.75     17850.0  United Kingdom  \n",
       "3       2010-12-01       3.39     17850.0  United Kingdom  \n",
       "4       2010-12-01       3.39     17850.0  United Kingdom  \n",
       "...            ...        ...         ...             ...  \n",
       "541904  2011-12-09       0.85     12680.0          France  \n",
       "541905  2011-12-09       2.10     12680.0          France  \n",
       "541906  2011-12-09       4.15     12680.0          France  \n",
       "541907  2011-12-09       4.15     12680.0          France  \n",
       "541908  2011-12-09       4.95     12680.0          France  \n",
       "\n",
       "[541909 rows x 8 columns]"
      ]
     },
     "execution_count": 33,
     "metadata": {},
     "output_type": "execute_result"
    }
   ],
   "source": [
    "df['InvoiceDate'] = pd.to_datetime(df['InvoiceDate'], format=\"%m/%d/%Y %H:%M\").dt.date\n",
    "\n",
    "# format=\"%m/%d/%Y %H:%M\"   original format looks like this way\n",
    "# .dt.date  this means only extracts the date part from the 'datetime' object, onlythe date (year, month, and day)\n",
    "df"
   ]
  },
  {
   "cell_type": "markdown",
   "id": "fitted-sleeping",
   "metadata": {
    "id": "fitted-sleeping"
   },
   "source": [
    "We only want the day, month, and year from the invoice date, but the original data also contained values for hours and minutes. Conveniently, the date is reformatted as YYYY-MM-DD by default."
   ]
  },
  {
   "cell_type": "markdown",
   "id": "structured-fetish",
   "metadata": {
    "id": "structured-fetish"
   },
   "source": [
    "Finally, we can compute the total daily sales of the shop:"
   ]
  },
  {
   "cell_type": "code",
   "execution_count": 34,
   "id": "surrounded-salvation",
   "metadata": {
    "id": "surrounded-salvation"
   },
   "outputs": [
    {
     "data": {
      "text/html": [
       "<div>\n",
       "<style scoped>\n",
       "    .dataframe tbody tr th:only-of-type {\n",
       "        vertical-align: middle;\n",
       "    }\n",
       "\n",
       "    .dataframe tbody tr th {\n",
       "        vertical-align: top;\n",
       "    }\n",
       "\n",
       "    .dataframe thead th {\n",
       "        text-align: right;\n",
       "    }\n",
       "</style>\n",
       "<table border=\"1\" class=\"dataframe\">\n",
       "  <thead>\n",
       "    <tr style=\"text-align: right;\">\n",
       "      <th></th>\n",
       "      <th>InvoiceNo</th>\n",
       "      <th>StockCode</th>\n",
       "      <th>Description</th>\n",
       "      <th>Quantity</th>\n",
       "      <th>InvoiceDate</th>\n",
       "      <th>UnitPrice</th>\n",
       "      <th>CustomerID</th>\n",
       "      <th>Country</th>\n",
       "      <th>revenue</th>\n",
       "    </tr>\n",
       "  </thead>\n",
       "  <tbody>\n",
       "    <tr>\n",
       "      <th>0</th>\n",
       "      <td>536365</td>\n",
       "      <td>85123A</td>\n",
       "      <td>WHITE HANGING HEART T-LIGHT HOLDER</td>\n",
       "      <td>6</td>\n",
       "      <td>2010-12-01</td>\n",
       "      <td>2.55</td>\n",
       "      <td>17850.0</td>\n",
       "      <td>United Kingdom</td>\n",
       "      <td>15.30</td>\n",
       "    </tr>\n",
       "    <tr>\n",
       "      <th>1</th>\n",
       "      <td>536365</td>\n",
       "      <td>71053</td>\n",
       "      <td>WHITE METAL LANTERN</td>\n",
       "      <td>6</td>\n",
       "      <td>2010-12-01</td>\n",
       "      <td>3.39</td>\n",
       "      <td>17850.0</td>\n",
       "      <td>United Kingdom</td>\n",
       "      <td>20.34</td>\n",
       "    </tr>\n",
       "    <tr>\n",
       "      <th>2</th>\n",
       "      <td>536365</td>\n",
       "      <td>84406B</td>\n",
       "      <td>CREAM CUPID HEARTS COAT HANGER</td>\n",
       "      <td>8</td>\n",
       "      <td>2010-12-01</td>\n",
       "      <td>2.75</td>\n",
       "      <td>17850.0</td>\n",
       "      <td>United Kingdom</td>\n",
       "      <td>22.00</td>\n",
       "    </tr>\n",
       "    <tr>\n",
       "      <th>3</th>\n",
       "      <td>536365</td>\n",
       "      <td>84029G</td>\n",
       "      <td>KNITTED UNION FLAG HOT WATER BOTTLE</td>\n",
       "      <td>6</td>\n",
       "      <td>2010-12-01</td>\n",
       "      <td>3.39</td>\n",
       "      <td>17850.0</td>\n",
       "      <td>United Kingdom</td>\n",
       "      <td>20.34</td>\n",
       "    </tr>\n",
       "    <tr>\n",
       "      <th>4</th>\n",
       "      <td>536365</td>\n",
       "      <td>84029E</td>\n",
       "      <td>RED WOOLLY HOTTIE WHITE HEART.</td>\n",
       "      <td>6</td>\n",
       "      <td>2010-12-01</td>\n",
       "      <td>3.39</td>\n",
       "      <td>17850.0</td>\n",
       "      <td>United Kingdom</td>\n",
       "      <td>20.34</td>\n",
       "    </tr>\n",
       "  </tbody>\n",
       "</table>\n",
       "</div>"
      ],
      "text/plain": [
       "  InvoiceNo StockCode                          Description  Quantity  \\\n",
       "0    536365    85123A   WHITE HANGING HEART T-LIGHT HOLDER         6   \n",
       "1    536365     71053                  WHITE METAL LANTERN         6   \n",
       "2    536365    84406B       CREAM CUPID HEARTS COAT HANGER         8   \n",
       "3    536365    84029G  KNITTED UNION FLAG HOT WATER BOTTLE         6   \n",
       "4    536365    84029E       RED WOOLLY HOTTIE WHITE HEART.         6   \n",
       "\n",
       "  InvoiceDate  UnitPrice  CustomerID         Country  revenue  \n",
       "0  2010-12-01       2.55     17850.0  United Kingdom    15.30  \n",
       "1  2010-12-01       3.39     17850.0  United Kingdom    20.34  \n",
       "2  2010-12-01       2.75     17850.0  United Kingdom    22.00  \n",
       "3  2010-12-01       3.39     17850.0  United Kingdom    20.34  \n",
       "4  2010-12-01       3.39     17850.0  United Kingdom    20.34  "
      ]
     },
     "execution_count": 34,
     "metadata": {},
     "output_type": "execute_result"
    }
   ],
   "source": [
    "df['revenue'] = df['UnitPrice'] * df['Quantity']\n",
    "df.head()"
   ]
  },
  {
   "cell_type": "code",
   "execution_count": 35,
   "id": "looking-picking",
   "metadata": {
    "id": "looking-picking",
    "outputId": "4668153b-fb59-4b30-fe0b-c3411b416bc1"
   },
   "outputs": [
    {
     "data": {
      "text/html": [
       "<div>\n",
       "<style scoped>\n",
       "    .dataframe tbody tr th:only-of-type {\n",
       "        vertical-align: middle;\n",
       "    }\n",
       "\n",
       "    .dataframe tbody tr th {\n",
       "        vertical-align: top;\n",
       "    }\n",
       "\n",
       "    .dataframe thead th {\n",
       "        text-align: right;\n",
       "    }\n",
       "</style>\n",
       "<table border=\"1\" class=\"dataframe\">\n",
       "  <thead>\n",
       "    <tr style=\"text-align: right;\">\n",
       "      <th></th>\n",
       "      <th>Quantity</th>\n",
       "      <th>revenue</th>\n",
       "    </tr>\n",
       "    <tr>\n",
       "      <th>InvoiceDate</th>\n",
       "      <th></th>\n",
       "      <th></th>\n",
       "    </tr>\n",
       "  </thead>\n",
       "  <tbody>\n",
       "    <tr>\n",
       "      <th>2010-12-01</th>\n",
       "      <td>26814</td>\n",
       "      <td>58635.56</td>\n",
       "    </tr>\n",
       "    <tr>\n",
       "      <th>2010-12-02</th>\n",
       "      <td>21023</td>\n",
       "      <td>46207.28</td>\n",
       "    </tr>\n",
       "    <tr>\n",
       "      <th>2010-12-03</th>\n",
       "      <td>14830</td>\n",
       "      <td>45620.46</td>\n",
       "    </tr>\n",
       "    <tr>\n",
       "      <th>2010-12-05</th>\n",
       "      <td>16395</td>\n",
       "      <td>31383.95</td>\n",
       "    </tr>\n",
       "    <tr>\n",
       "      <th>2010-12-06</th>\n",
       "      <td>21419</td>\n",
       "      <td>53860.18</td>\n",
       "    </tr>\n",
       "    <tr>\n",
       "      <th>...</th>\n",
       "      <td>...</td>\n",
       "      <td>...</td>\n",
       "    </tr>\n",
       "    <tr>\n",
       "      <th>2011-12-05</th>\n",
       "      <td>44119</td>\n",
       "      <td>57751.32</td>\n",
       "    </tr>\n",
       "    <tr>\n",
       "      <th>2011-12-06</th>\n",
       "      <td>29026</td>\n",
       "      <td>54228.37</td>\n",
       "    </tr>\n",
       "    <tr>\n",
       "      <th>2011-12-07</th>\n",
       "      <td>39612</td>\n",
       "      <td>75076.22</td>\n",
       "    </tr>\n",
       "    <tr>\n",
       "      <th>2011-12-08</th>\n",
       "      <td>34460</td>\n",
       "      <td>81417.78</td>\n",
       "    </tr>\n",
       "    <tr>\n",
       "      <th>2011-12-09</th>\n",
       "      <td>12949</td>\n",
       "      <td>32131.53</td>\n",
       "    </tr>\n",
       "  </tbody>\n",
       "</table>\n",
       "<p>305 rows × 2 columns</p>\n",
       "</div>"
      ],
      "text/plain": [
       "             Quantity   revenue\n",
       "InvoiceDate                    \n",
       "2010-12-01      26814  58635.56\n",
       "2010-12-02      21023  46207.28\n",
       "2010-12-03      14830  45620.46\n",
       "2010-12-05      16395  31383.95\n",
       "2010-12-06      21419  53860.18\n",
       "...               ...       ...\n",
       "2011-12-05      44119  57751.32\n",
       "2011-12-06      29026  54228.37\n",
       "2011-12-07      39612  75076.22\n",
       "2011-12-08      34460  81417.78\n",
       "2011-12-09      12949  32131.53\n",
       "\n",
       "[305 rows x 2 columns]"
      ]
     },
     "execution_count": 35,
     "metadata": {},
     "output_type": "execute_result"
    }
   ],
   "source": [
    "df_grouped = df.drop(['CustomerID', 'UnitPrice'], axis=1).groupby(['InvoiceDate']).sum()\n",
    "\n",
    "df_grouped"
   ]
  },
  {
   "cell_type": "markdown",
   "id": "federal-bernard",
   "metadata": {
    "id": "federal-bernard"
   },
   "source": [
    "Let's plot a histogram of these daily sales:"
   ]
  },
  {
   "cell_type": "code",
   "execution_count": 23,
   "id": "virgin-classroom",
   "metadata": {
    "id": "virgin-classroom",
    "outputId": "829a8cd1-90d1-4b6f-830d-55ae04f795be"
   },
   "outputs": [
    {
     "data": {
      "image/png": "[encoded data removed]",
      "text/plain": [
       "<Figure size 432x288 with 1 Axes>"
      ]
     },
     "metadata": {
      "needs_background": "light"
     },
     "output_type": "display_data"
    }
   ],
   "source": [
    "%matplotlib inline\n",
    "import matplotlib.pyplot as plt\n",
    "\n",
    "plt.hist(df_grouped[\"revenue\"])\n",
    "plt.ylabel('Frequency')\n",
    "plt.xlabel('Revenue')\n",
    "plt.show()"
   ]
  },
  {
   "cell_type": "markdown",
   "id": "unable-military",
   "metadata": {
    "id": "unable-military"
   },
   "source": [
    "#### the law of large numbers on the daily sales dataframe\n",
    "\n",
    "Create a list named `avg_daily_revenues` that contains the daily average revenue, taking into account 2, 3, 4, … 300 days, sampled randomly.\n",
    "\n",
    "**Hint:** Checkout the train-test split exercise (STI_D1_EX1_Train_Test_Split_on_the_Retail_Dataset) for a demonstration on how to sample randomly from a dataframe.\n",
    "\n",
    "- Loop over the desired range of days (2 to 305).\n",
    "- Randomly sample the specified number of days from the DataFrame.\n",
    "- Calculate the average revenue for each sample.\n",
    "- Store each average in the avg_daily_revenues list."
   ]
  },
  {
   "cell_type": "code",
   "execution_count": 50,
   "id": "celtic-thesis",
   "metadata": {
    "id": "celtic-thesis"
   },
   "outputs": [
    {
     "data": {
      "image/png": "[encoded data removed]",
      "text/plain": [
       "<Figure size 432x288 with 1 Axes>"
      ]
     },
     "metadata": {
      "needs_background": "light"
     },
     "output_type": "display_data"
    }
   ],
   "source": [
    "# your code here\n",
    "import seaborn as sns\n",
    "import matplotlib.pyplot as plt\n",
    "\n",
    "\n",
    "avg_daily_revenues = []\n",
    "\n",
    "for i in range(2, 306):  # from 2 到 305 day\n",
    "    sampled_days = df_grouped['revenue'].sample(n = i, random_state = 100, replace =True)   # randomly select i days\n",
    "    avg_revenue  = sampled_days.mean()          # calcualte these days' avg values\n",
    "    avg_daily_revenues.append(avg_revenue)\n",
    "    \n",
    "sns.scatterplot(data = avg_daily_revenues)\n",
    "plt.xlabel('days sampled')\n",
    "plt.ylabel('avg_daily_re')\n",
    "plt.show()"
   ]
  },
  {
   "cell_type": "code",
   "execution_count": 45,
   "id": "8b1f04e2",
   "metadata": {},
   "outputs": [
    {
     "data": {
      "text/plain": [
       "31959.829291803275"
      ]
     },
     "execution_count": 45,
     "metadata": {},
     "output_type": "execute_result"
    }
   ],
   "source": [
    "mean_rev = df_grouped['revenue'].mean()\n",
    "mean_rev"
   ]
  },
  {
   "cell_type": "markdown",
   "id": "f299242a-3a13-49ab-9dc4-b46387bbe9c6",
   "metadata": {
    "id": "f299242a-3a13-49ab-9dc4-b46387bbe9c6"
   },
   "source": [
    "## Central Limit Theorem\n",
    "\n",
    "The Central Limit Theorem states that the normalized sum of independent random variables tends towards a normal distribution as the number of independent random variables increases.\n",
    "\n",
    "For our daily sales example, that could translate to:\n",
    "\n",
    "If I compute a large number of the means of daily sales over n days (taken randomly) and plot their histogram, it will look like a gaussian distribution. The more samples I take for calculating the means, the more their distributions will look like a Gaussian.\n",
    "\n",
    "Let’s test this by computing:\n",
    "\n",
    "- 10000 sample means of daily sales with sampling size = 1\n",
    "- 10000 sample means of daily sales with sampling size = 10\n",
    "- 10000 sample means of daily sales with sampling size = 100\n",
    "- 10000 sample means of daily sales with sampling size = 1000\n",
    "\n",
    "and plot the histograms for each distributions. As the number of samples in each mean increases, the distribution should look more and more like a Gaussian."
   ]
  },
  {
   "cell_type": "code",
   "execution_count": 46,
   "id": "70563b74",
   "metadata": {},
   "outputs": [
    {
     "data": {
      "text/html": [
       "<div>\n",
       "<style scoped>\n",
       "    .dataframe tbody tr th:only-of-type {\n",
       "        vertical-align: middle;\n",
       "    }\n",
       "\n",
       "    .dataframe tbody tr th {\n",
       "        vertical-align: top;\n",
       "    }\n",
       "\n",
       "    .dataframe thead th {\n",
       "        text-align: right;\n",
       "    }\n",
       "</style>\n",
       "<table border=\"1\" class=\"dataframe\">\n",
       "  <thead>\n",
       "    <tr style=\"text-align: right;\">\n",
       "      <th></th>\n",
       "      <th>Quantity</th>\n",
       "      <th>revenue</th>\n",
       "    </tr>\n",
       "    <tr>\n",
       "      <th>InvoiceDate</th>\n",
       "      <th></th>\n",
       "      <th></th>\n",
       "    </tr>\n",
       "  </thead>\n",
       "  <tbody>\n",
       "    <tr>\n",
       "      <th>2010-12-01</th>\n",
       "      <td>26814</td>\n",
       "      <td>58635.56</td>\n",
       "    </tr>\n",
       "    <tr>\n",
       "      <th>2010-12-02</th>\n",
       "      <td>21023</td>\n",
       "      <td>46207.28</td>\n",
       "    </tr>\n",
       "    <tr>\n",
       "      <th>2010-12-03</th>\n",
       "      <td>14830</td>\n",
       "      <td>45620.46</td>\n",
       "    </tr>\n",
       "    <tr>\n",
       "      <th>2010-12-05</th>\n",
       "      <td>16395</td>\n",
       "      <td>31383.95</td>\n",
       "    </tr>\n",
       "    <tr>\n",
       "      <th>2010-12-06</th>\n",
       "      <td>21419</td>\n",
       "      <td>53860.18</td>\n",
       "    </tr>\n",
       "  </tbody>\n",
       "</table>\n",
       "</div>"
      ],
      "text/plain": [
       "             Quantity   revenue\n",
       "InvoiceDate                    \n",
       "2010-12-01      26814  58635.56\n",
       "2010-12-02      21023  46207.28\n",
       "2010-12-03      14830  45620.46\n",
       "2010-12-05      16395  31383.95\n",
       "2010-12-06      21419  53860.18"
      ]
     },
     "execution_count": 46,
     "metadata": {},
     "output_type": "execute_result"
    }
   ],
   "source": [
    "df_grouped.head()"
   ]
  },
  {
   "cell_type": "markdown",
   "id": "dfae322a",
   "metadata": {},
   "source": [
    "### 10000 sample means of daily sales with sampling size = 1\n",
    "从数据集中随机抽取10000次，每次抽取1天的数据，然后计算每次抽取的日销售额的均值。因为样本大小为1，所以每次抽取的均值实际上就是当天的销售额。"
   ]
  },
  {
   "cell_type": "code",
   "execution_count": 62,
   "id": "4289cb6d-7968-4b89-b8d7-e4fae04c0a97",
   "metadata": {
    "id": "4289cb6d-7968-4b89-b8d7-e4fae04c0a97"
   },
   "outputs": [
    {
     "data": {
      "text/html": [
       "<div>\n",
       "<style scoped>\n",
       "    .dataframe tbody tr th:only-of-type {\n",
       "        vertical-align: middle;\n",
       "    }\n",
       "\n",
       "    .dataframe tbody tr th {\n",
       "        vertical-align: top;\n",
       "    }\n",
       "\n",
       "    .dataframe thead th {\n",
       "        text-align: right;\n",
       "    }\n",
       "</style>\n",
       "<table border=\"1\" class=\"dataframe\">\n",
       "  <thead>\n",
       "    <tr style=\"text-align: right;\">\n",
       "      <th></th>\n",
       "      <th>InvoiceDate</th>\n",
       "      <th>revenue</th>\n",
       "    </tr>\n",
       "  </thead>\n",
       "  <tbody>\n",
       "    <tr>\n",
       "      <th>0</th>\n",
       "      <td>2010-12-10</td>\n",
       "      <td>57404.91</td>\n",
       "    </tr>\n",
       "    <tr>\n",
       "      <th>1</th>\n",
       "      <td>2011-11-11</td>\n",
       "      <td>54835.51</td>\n",
       "    </tr>\n",
       "    <tr>\n",
       "      <th>2</th>\n",
       "      <td>2011-03-14</td>\n",
       "      <td>25864.59</td>\n",
       "    </tr>\n",
       "    <tr>\n",
       "      <th>3</th>\n",
       "      <td>2011-02-11</td>\n",
       "      <td>20387.28</td>\n",
       "    </tr>\n",
       "    <tr>\n",
       "      <th>4</th>\n",
       "      <td>2011-02-27</td>\n",
       "      <td>9491.05</td>\n",
       "    </tr>\n",
       "    <tr>\n",
       "      <th>...</th>\n",
       "      <td>...</td>\n",
       "      <td>...</td>\n",
       "    </tr>\n",
       "    <tr>\n",
       "      <th>9995</th>\n",
       "      <td>2011-11-30</td>\n",
       "      <td>59150.98</td>\n",
       "    </tr>\n",
       "    <tr>\n",
       "      <th>9996</th>\n",
       "      <td>2011-06-17</td>\n",
       "      <td>20800.72</td>\n",
       "    </tr>\n",
       "    <tr>\n",
       "      <th>9997</th>\n",
       "      <td>2011-10-09</td>\n",
       "      <td>11922.24</td>\n",
       "    </tr>\n",
       "    <tr>\n",
       "      <th>9998</th>\n",
       "      <td>2011-03-14</td>\n",
       "      <td>25864.59</td>\n",
       "    </tr>\n",
       "    <tr>\n",
       "      <th>9999</th>\n",
       "      <td>2011-04-05</td>\n",
       "      <td>28353.83</td>\n",
       "    </tr>\n",
       "  </tbody>\n",
       "</table>\n",
       "<p>10000 rows × 2 columns</p>\n",
       "</div>"
      ],
      "text/plain": [
       "     InvoiceDate   revenue\n",
       "0     2010-12-10  57404.91\n",
       "1     2011-11-11  54835.51\n",
       "2     2011-03-14  25864.59\n",
       "3     2011-02-11  20387.28\n",
       "4     2011-02-27   9491.05\n",
       "...          ...       ...\n",
       "9995  2011-11-30  59150.98\n",
       "9996  2011-06-17  20800.72\n",
       "9997  2011-10-09  11922.24\n",
       "9998  2011-03-14  25864.59\n",
       "9999  2011-04-05  28353.83\n",
       "\n",
       "[10000 rows x 2 columns]"
      ]
     },
     "execution_count": 62,
     "metadata": {},
     "output_type": "execute_result"
    }
   ],
   "source": [
    "# 10000 sample means of daily sales with sampling size = 1\n",
    "\n",
    "df_1 = df_grouped['revenue'].sample(n = 10000, random_state = 100, replace = True) \n",
    "# replace = True 抽取之后再放回继续抽"
   ]
  },
  {
   "cell_type": "code",
   "execution_count": 66,
   "id": "49309dab",
   "metadata": {},
   "outputs": [
    {
     "data": {
      "text/plain": [
       "<AxesSubplot:ylabel='Count'>"
      ]
     },
     "execution_count": 66,
     "metadata": {},
     "output_type": "execute_result"
    },
    {
     "data": {
      "image/png": "[encoded data removed]",
      "text/plain": [
       "<Figure size 432x288 with 1 Axes>"
      ]
     },
     "metadata": {
      "needs_background": "light"
     },
     "output_type": "display_data"
    }
   ],
   "source": [
    "sns.histplot(df_1)"
   ]
  },
  {
   "cell_type": "markdown",
   "id": "6999d2cf",
   "metadata": {},
   "source": [
    "### 10000 sample means of daily sales with sampling size = 10\n",
    "这是指从数据集中随机抽取10000次，每次抽取10天的数据，然后计算这10天的销售额的平均值。最后我们会得到10000个均值。"
   ]
  },
  {
   "cell_type": "code",
   "execution_count": 79,
   "id": "bf0071a2",
   "metadata": {},
   "outputs": [
    {
     "data": {
      "text/plain": [
       "[24108.023999999998,\n",
       " 30543.789,\n",
       " 29945.24,\n",
       " 30527.019,\n",
       " 34215.919,\n",
       " 32878.341,\n",
       " 32828.267,\n",
       " 32352.172099999996,\n",
       " 32153.643000000004,\n",
       " 42812.233]"
      ]
     },
     "execution_count": 79,
     "metadata": {},
     "output_type": "execute_result"
    }
   ],
   "source": [
    "avg_10000 =[]\n",
    "\n",
    "for i in range(1,10001):\n",
    "    avg_i= df_grouped['revenue'].sample(n = 10, replace = True).mean()\n",
    "    avg_10000.append(avg_i)\n",
    "    \n",
    "avg_10000[:10] # 10000 sampling 的均值 "
   ]
  },
  {
   "cell_type": "code",
   "execution_count": 80,
   "id": "e316ed17",
   "metadata": {},
   "outputs": [
    {
     "data": {
      "text/plain": [
       "<AxesSubplot:ylabel='Count'>"
      ]
     },
     "execution_count": 80,
     "metadata": {},
     "output_type": "execute_result"
    },
    {
     "data": {
      "image/png": "[encoded data removed]",
      "text/plain": [
       "<Figure size 432x288 with 1 Axes>"
      ]
     },
     "metadata": {
      "needs_background": "light"
     },
     "output_type": "display_data"
    }
   ],
   "source": [
    "sns.histplot(avg_10000)"
   ]
  },
  {
   "cell_type": "code",
   "execution_count": null,
   "id": "bda84374",
   "metadata": {},
   "outputs": [],
   "source": [
    "# 10000 sample means of daily sales with sampling size = 10"
   ]
  },
  {
   "cell_type": "markdown",
   "id": "0993267d",
   "metadata": {},
   "source": [
    "### 10000 sample means of daily sales with sampling size = 100\n",
    "从数据集中随机抽取10000次，每次抽取1000天的数据，然后计算这1000天的销售额的平均值。最后我们会得到10000个均值。"
   ]
  },
  {
   "cell_type": "code",
   "execution_count": 83,
   "id": "c244e2d4",
   "metadata": {},
   "outputs": [
    {
     "data": {
      "text/plain": [
       "<AxesSubplot:ylabel='Count'>"
      ]
     },
     "execution_count": 83,
     "metadata": {},
     "output_type": "execute_result"
    },
    {
     "data": {
      "image/png": "[encoded data removed]",
      "text/plain": [
       "<Figure size 432x288 with 1 Axes>"
      ]
     },
     "metadata": {
      "needs_background": "light"
     },
     "output_type": "display_data"
    }
   ],
   "source": [
    "avg_10000 =[]\n",
    "\n",
    "for i in range(1,10001):\n",
    "    avg_i= df_grouped['revenue'].sample(n = 100, replace = True).mean()\n",
    "    avg_10000.append(avg_i)\n",
    "    \n",
    "sns.histplot(avg_10000)"
   ]
  },
  {
   "cell_type": "markdown",
   "id": "1563dc12",
   "metadata": {},
   "source": [
    "### 10000 sample means of daily sales with sampling size = 1000\n",
    "从数据集中随机抽取10000次，每次抽取1000天的数据，然后计算这1000天的销售额的平均值。最后我们会得到10000个均值。"
   ]
  },
  {
   "cell_type": "code",
   "execution_count": 85,
   "id": "d93cd150",
   "metadata": {},
   "outputs": [
    {
     "data": {
      "text/plain": [
       "<AxesSubplot:ylabel='Count'>"
      ]
     },
     "execution_count": 85,
     "metadata": {},
     "output_type": "execute_result"
    },
    {
     "data": {
      "image/png": "[encoded data removed]",
      "text/plain": [
       "<Figure size 432x288 with 1 Axes>"
      ]
     },
     "metadata": {
      "needs_background": "light"
     },
     "output_type": "display_data"
    }
   ],
   "source": [
    "avg_10000 =[]\n",
    "\n",
    "for i in range(1,10001):\n",
    "    avg_i= df_grouped['revenue'].sample(n = 1000, replace = True).mean()\n",
    "    avg_10000.append(avg_i)\n",
    "    \n",
    "sns.histplot(avg_10000)"
   ]
  },
  {
   "cell_type": "markdown",
   "id": "3badf333",
   "metadata": {},
   "source": [
    "Summary:\n",
    "\n",
    "Sample Size = 1: The histogram shows the original data's distribution, with wide variance and skewed shape.\n",
    "\n",
    "Sample Size = 10: The histogram starts to narrow, with the mean of the sample means closer to the true population mean.\n",
    "\n",
    "Sample Size = 100: The histogram becomes bell-shaped, more tightly centered around the true mean.\n",
    "\n",
    "Sample Size = 1000: The histogram is very tight and nearly perfectly normal, with the sample means almost identical to the true population mean.\n",
    "\n",
    "These changes in the shape and spread of the distribution of sample means as the sample size increases illustrate both the LLN (convergence to the mean) and the CLT (approaching a normal distribution)."
   ]
  }
 ],
 "metadata": {
  "colab": {
   "provenance": []
  },
  "kernelspec": {
   "display_name": "base",
   "language": "python",
   "name": "python3"
  },
  "language_info": {
   "codemirror_mode": {
    "name": "ipython",
    "version": 3
   },
   "file_extension": ".py",
   "mimetype": "text/x-python",
   "name": "python",
   "nbconvert_exporter": "python",
   "pygments_lexer": "ipython3",
   "version": "3.12.4"
  }
 },
 "nbformat": 4,
 "nbformat_minor": 5
}
